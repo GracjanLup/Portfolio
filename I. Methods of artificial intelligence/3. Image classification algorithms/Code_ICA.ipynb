{
 "cells": [
  {
   "cell_type": "code",
   "execution_count": 6,
   "id": "0dd96726",
   "metadata": {},
   "outputs": [],
   "source": [
    "import numpy as np\n",
    "import matplotlib.pyplot as plt\n",
    "import tensorflow as tf\n",
    "import pandas as pd\n",
    "import os\n",
    "os.environ[\"KMP_DUPLICATE_LIB_OK\"]=\"TRUE\"\n",
    "os.environ['CUDA_VISIBLE_DEVICES'] = '-1'\n",
    "from tensorflow.keras.callbacks import EarlyStopping\n",
    "from tensorflow.keras.models import Sequential\n",
    "from tensorflow.keras.layers import Dense, Dropout, Conv2D, MaxPooling2D, Flatten\n",
    "from tensorflow.keras.layers import BatchNormalization\n",
    "from keras.preprocessing.image import ImageDataGenerator\n",
    "\n",
    "es = EarlyStopping(monitor = \"val_loss\", mode = \"min\", patience = 5)\n",
    "\n",
    "EPOCHS = 100"
   ]
  },
  {
   "cell_type": "code",
   "execution_count": 7,
   "id": "8c79f8d4",
   "metadata": {},
   "outputs": [
    {
     "name": "stdout",
     "output_type": "stream",
     "text": [
      "Found 7280 images belonging to 4 classes.\n",
      "Found 1817 images belonging to 4 classes.\n"
     ]
    }
   ],
   "source": [
    "from keras.preprocessing.image import ImageDataGenerator\n",
    "\n",
    "root_path = \"Dataset/\"\n",
    "\n",
    "gen = ImageDataGenerator(\n",
    "    rescale=1./255,\n",
    "    horizontal_flip=True,\n",
    "    vertical_flip=True,\n",
    "    rotation_range=20,\n",
    "    validation_split=0.2\n",
    ")\n",
    "\n",
    "# Load Data\n",
    "train_ds = gen.flow_from_directory(\n",
    "    root_path,\n",
    "    class_mode=\"categorical\",\n",
    "    classes = os.listdir(root_path), \n",
    "    shuffle=True,\n",
    "    batch_size=32,\n",
    "    target_size=(128,128),\n",
    "    subset=\"training\"\n",
    ")\n",
    "\n",
    "valid_ds = gen.flow_from_directory(\n",
    "    root_path,\n",
    "    class_mode=\"categorical\",\n",
    "    classes = os.listdir(root_path),\n",
    "    shuffle=True,\n",
    "    batch_size=32,\n",
    "    target_size=(128,128),\n",
    "    subset=\"validation\"\n",
    ")\n"
   ]
  },
  {
   "cell_type": "code",
   "execution_count": null,
   "id": "1718aea6",
   "metadata": {},
   "outputs": [],
   "source": [
    "from tensorflow.keras.layers import Dropout\n",
    "\n",
    "simple_model = Sequential()\n",
    "\n",
    "simple_model.add(Conv2D(filters=32, kernel_size=(3, 3), activation='relu', input_shape=(128, 128, 3)))\n",
    "simple_model.add(MaxPooling2D((2, 2)))\n",
    "simple_model.add(BatchNormalization())\n",
    "simple_model.add(Dropout(0.2))  # Dodaj warstwę Dropout\n",
    "\n",
    "simple_model.add(Conv2D(filters=32, kernel_size=(3, 3), activation='relu'))\n",
    "simple_model.add(MaxPooling2D((2, 2)))\n",
    "simple_model.add(BatchNormalization())\n",
    "simple_model.add(Dropout(0.2))  # Dodaj warstwę Dropout\n",
    "\n",
    "simple_model.add(Conv2D(filters=32, kernel_size=(3, 3), activation='relu'))\n",
    "simple_model.add(MaxPooling2D((2, 2)))\n",
    "simple_model.add(Dropout(0.2))  # Dodaj warstwę Dropout\n",
    "\n",
    "simple_model.add(Flatten())\n",
    "simple_model.add(Dense(256, activation='relu'))\n",
    "simple_model.add(Dropout(0.2))  # Dodaj warstwę Dropout\n",
    "simple_model.add(Dense(64, activation='relu'))\n",
    "simple_model.add(Dense(4, activation='softmax'))\n",
    "\n",
    "simple_model.summary()\n",
    "\n",
    "simple_model.compile(optimizer=\"adam\", loss='categorical_crossentropy', metrics=['accuracy'])\n",
    "history_simple = simple_model.fit(train_ds, epochs=EPOCHS, validation_data=valid_ds, callbacks=[es])"
   ]
  },
  {
   "cell_type": "code",
   "execution_count": null,
   "id": "0e46c75e",
   "metadata": {},
   "outputs": [],
   "source": []
  }
 ],
 "metadata": {
  "kernelspec": {
   "display_name": "Python 3 (ipykernel)",
   "language": "python",
   "name": "python3"
  },
  "language_info": {
   "codemirror_mode": {
    "name": "ipython",
    "version": 3
   },
   "file_extension": ".py",
   "mimetype": "text/x-python",
   "name": "python",
   "nbconvert_exporter": "python",
   "pygments_lexer": "ipython3",
   "version": "3.10.4"
  }
 },
 "nbformat": 4,
 "nbformat_minor": 5
}
