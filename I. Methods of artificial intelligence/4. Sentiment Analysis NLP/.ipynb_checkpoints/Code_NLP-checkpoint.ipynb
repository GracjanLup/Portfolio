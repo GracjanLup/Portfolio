{
 "cells": [
  {
   "cell_type": "code",
   "execution_count": 1,
   "id": "0dd96726",
   "metadata": {},
   "outputs": [
    {
     "name": "stdout",
     "output_type": "stream",
     "text": [
      "WARNING:tensorflow:From C:\\Users\\Gracjan\\AppData\\Local\\Programs\\Python\\Python310\\lib\\site-packages\\keras\\src\\losses.py:2976: The name tf.losses.sparse_softmax_cross_entropy is deprecated. Please use tf.compat.v1.losses.sparse_softmax_cross_entropy instead.\n",
      "\n"
     ]
    }
   ],
   "source": [
    "import numpy as np\n",
    "import matplotlib.pyplot as plt\n",
    "import tensorflow as tf\n",
    "import pandas as pd\n",
    "import os\n",
    "os.environ[\"KMP_DUPLICATE_LIB_OK\"]=\"TRUE\"\n",
    "os.environ['CUDA_VISIBLE_DEVICES'] = '-1'\n",
    "from tensorflow.keras.callbacks import EarlyStopping\n",
    "from tensorflow.keras.models import Sequential\n",
    "from tensorflow.keras.layers import Dense, Dropout\n",
    "from tensorflow.keras.layers import BatchNormalization\n",
    "\n",
    "es = EarlyStopping(monitor = \"val_loss\", mode = \"min\", patience = 5)\n",
    "\n",
    "EPOCHS = 1000"
   ]
  },
  {
   "cell_type": "code",
   "execution_count": 2,
   "id": "e667796f",
   "metadata": {},
   "outputs": [],
   "source": [
    "df = pd.read_csv('data.csv', sep=\",\")"
   ]
  },
  {
   "cell_type": "code",
   "execution_count": 3,
   "id": "4cbfc23f",
   "metadata": {},
   "outputs": [
    {
     "name": "stderr",
     "output_type": "stream",
     "text": [
      "[nltk_data] Downloading package stopwords to\n",
      "[nltk_data]     C:\\Users\\Gracjan\\AppData\\Roaming\\nltk_data...\n",
      "[nltk_data]   Package stopwords is already up-to-date!\n",
      "[nltk_data] Downloading package punkt to\n",
      "[nltk_data]     C:\\Users\\Gracjan\\AppData\\Roaming\\nltk_data...\n",
      "[nltk_data]   Package punkt is already up-to-date!\n",
      "[nltk_data] Downloading package wordnet to\n",
      "[nltk_data]     C:\\Users\\Gracjan\\AppData\\Roaming\\nltk_data...\n",
      "[nltk_data]   Package wordnet is already up-to-date!\n",
      "[nltk_data] Downloading package omw-1.4 to\n",
      "[nltk_data]     C:\\Users\\Gracjan\\AppData\\Roaming\\nltk_data...\n",
      "[nltk_data]   Package omw-1.4 is already up-to-date!\n"
     ]
    },
    {
     "data": {
      "text/plain": [
       "True"
      ]
     },
     "execution_count": 3,
     "metadata": {},
     "output_type": "execute_result"
    }
   ],
   "source": [
    "import re\n",
    "import string\n",
    "import nltk\n",
    "from nltk.corpus import stopwords\n",
    "from nltk.stem import WordNetLemmatizer\n",
    "from nltk.stem.porter import *\n",
    "from tqdm import tqdm\n",
    "from nltk import sent_tokenize,word_tokenize\n",
    "\n",
    "nltk.download('stopwords')\n",
    "nltk.download('punkt')\n",
    "nltk.download('wordnet')\n",
    "nltk.download('omw-1.4')"
   ]
  },
  {
   "cell_type": "code",
   "execution_count": 4,
   "id": "2abee84b",
   "metadata": {},
   "outputs": [
    {
     "name": "stderr",
     "output_type": "stream",
     "text": [
      "100%|████████████████████████████████████████████████████████████████████████████| 5842/5842 [00:03<00:00, 1468.84it/s]\n"
     ]
    }
   ],
   "source": [
    "main = []\n",
    "\n",
    "re_puncs = re.compile('[%s]' % re.escape(string.punctuation))\n",
    "stop_word  = set(stopwords.words('english'))\n",
    "stop_word.add(\"im\")\n",
    "lem = WordNetLemmatizer()\n",
    "p_stem = PorterStemmer()\n",
    "\n",
    "for i in tqdm(range(len(df['Sentence']))):\n",
    "    tokens = word_tokenize(str(df['Sentence'][i]))\n",
    "    tokens = [w.lower() for w in tokens]\n",
    "    tokens = [re_puncs.sub('', w) for w in tokens]\n",
    "    tokens = [i for i in tokens if i.isalpha()]\n",
    "    tokens = [w for w in tokens if w not in stop_word]\n",
    "    tokens = [lem.lemmatize(w) for w in tokens]\n",
    "    tokens = [p_stem.stem(w) for w in tokens]\n",
    "    r = ' '.join(tokens)\n",
    "    main.append(r)\n",
    "    \n",
    "#https://www.kaggle.com/code/tanujdhiman/twitter-sentiment-analysis"
   ]
  },
  {
   "cell_type": "code",
   "execution_count": 5,
   "id": "cdf001c6",
   "metadata": {},
   "outputs": [],
   "source": [
    "df['translated'] = main"
   ]
  },
  {
   "cell_type": "code",
   "execution_count": 6,
   "id": "2f26d33a",
   "metadata": {},
   "outputs": [],
   "source": [
    "from tensorflow.keras.preprocessing.text import Tokenizer\n",
    "from tensorflow.keras.preprocessing.sequence import pad_sequences\n",
    "\n",
    "tokenizer = Tokenizer(num_words = 50000, oov_token = \"<00V>\")\n",
    "tokenizer.fit_on_texts(df['translated'])"
   ]
  },
  {
   "cell_type": "code",
   "execution_count": 7,
   "id": "c22a3a48",
   "metadata": {},
   "outputs": [],
   "source": [
    "from sklearn.model_selection import train_test_split\n",
    "from tensorflow.keras.utils import to_categorical\n",
    "from sklearn import preprocessing\n",
    "\n",
    "label_encoder = preprocessing.LabelEncoder()\n",
    "\n",
    "df['sentiment_cat']=label_encoder.fit_transform(df['Sentiment'])\n",
    "X_train, X_test, y_train, y_test = train_test_split(df[\"translated\"], df['sentiment_cat'], train_size = 0.8, random_state=1)\n",
    "\n",
    "X_train = tokenizer.texts_to_sequences(X_train)\n",
    "X_test = tokenizer.texts_to_sequences(X_test)\n",
    "X_train_pad = pad_sequences(X_train, maxlen=50, padding=\"post\")\n",
    "X_test_pad = pad_sequences(X_test, maxlen=50, padding=\"post\")\n"
   ]
  },
  {
   "cell_type": "code",
   "execution_count": 10,
   "id": "64218758",
   "metadata": {},
   "outputs": [
    {
     "name": "stdout",
     "output_type": "stream",
     "text": [
      "Model: \"sequential_2\"\n",
      "_________________________________________________________________\n",
      " Layer (type)                Output Shape              Param #   \n",
      "=================================================================\n",
      " embedding_2 (Embedding)     (None, 50, 10)            500000    \n",
      "                                                                 \n",
      " gru_2 (GRU)                 (None, 16)                1344      \n",
      "                                                                 \n",
      " flatten_2 (Flatten)         (None, 16)                0         \n",
      "                                                                 \n",
      " dense_2 (Dense)             (None, 3)                 51        \n",
      "                                                                 \n",
      "=================================================================\n",
      "Total params: 501395 (1.91 MB)\n",
      "Trainable params: 501395 (1.91 MB)\n",
      "Non-trainable params: 0 (0.00 Byte)\n",
      "_________________________________________________________________\n",
      "Epoch 1/1000\n",
      "WARNING:tensorflow:From C:\\Users\\Gracjan\\AppData\\Local\\Programs\\Python\\Python310\\lib\\site-packages\\keras\\src\\utils\\tf_utils.py:492: The name tf.ragged.RaggedTensorValue is deprecated. Please use tf.compat.v1.ragged.RaggedTensorValue instead.\n",
      "\n",
      "WARNING:tensorflow:From C:\\Users\\Gracjan\\AppData\\Local\\Programs\\Python\\Python310\\lib\\site-packages\\keras\\src\\engine\\base_layer_utils.py:384: The name tf.executing_eagerly_outside_functions is deprecated. Please use tf.compat.v1.executing_eagerly_outside_functions instead.\n",
      "\n",
      "147/147 [==============================] - 5s 18ms/step - loss: 0.9939 - accuracy: 0.5376 - val_loss: 0.9909 - val_accuracy: 0.5287\n",
      "Epoch 2/1000\n",
      "147/147 [==============================] - 2s 16ms/step - loss: 0.9804 - accuracy: 0.5376 - val_loss: 0.9885 - val_accuracy: 0.5287\n",
      "Epoch 3/1000\n",
      "147/147 [==============================] - 2s 16ms/step - loss: 0.9799 - accuracy: 0.5376 - val_loss: 0.9887 - val_accuracy: 0.5287\n",
      "Epoch 4/1000\n",
      "147/147 [==============================] - 2s 15ms/step - loss: 0.9804 - accuracy: 0.5376 - val_loss: 0.9888 - val_accuracy: 0.5287\n",
      "Epoch 5/1000\n",
      "147/147 [==============================] - 2s 15ms/step - loss: 0.9797 - accuracy: 0.5376 - val_loss: 0.9882 - val_accuracy: 0.5287\n",
      "Epoch 6/1000\n",
      "147/147 [==============================] - 2s 15ms/step - loss: 0.9803 - accuracy: 0.5376 - val_loss: 0.9883 - val_accuracy: 0.5287\n",
      "Epoch 7/1000\n",
      "147/147 [==============================] - 2s 15ms/step - loss: 0.9795 - accuracy: 0.5376 - val_loss: 0.9881 - val_accuracy: 0.5287\n",
      "Epoch 8/1000\n",
      "147/147 [==============================] - 2s 15ms/step - loss: 0.9796 - accuracy: 0.5376 - val_loss: 0.9884 - val_accuracy: 0.5287\n",
      "Epoch 9/1000\n",
      "147/147 [==============================] - 2s 15ms/step - loss: 0.9796 - accuracy: 0.5376 - val_loss: 0.9883 - val_accuracy: 0.5287\n",
      "Epoch 10/1000\n",
      "147/147 [==============================] - 2s 14ms/step - loss: 0.9797 - accuracy: 0.5376 - val_loss: 0.9883 - val_accuracy: 0.5287\n",
      "Epoch 11/1000\n",
      "147/147 [==============================] - 2s 15ms/step - loss: 0.9800 - accuracy: 0.5376 - val_loss: 0.9901 - val_accuracy: 0.5287\n",
      "Epoch 12/1000\n",
      "147/147 [==============================] - 2s 15ms/step - loss: 0.9376 - accuracy: 0.5433 - val_loss: 0.8674 - val_accuracy: 0.6074\n",
      "Epoch 13/1000\n",
      "147/147 [==============================] - 2s 15ms/step - loss: 0.7203 - accuracy: 0.6844 - val_loss: 0.7346 - val_accuracy: 0.6792\n",
      "Epoch 14/1000\n",
      "147/147 [==============================] - 2s 15ms/step - loss: 0.4802 - accuracy: 0.8012 - val_loss: 0.7806 - val_accuracy: 0.6664\n",
      "Epoch 15/1000\n",
      "147/147 [==============================] - 2s 15ms/step - loss: 0.3584 - accuracy: 0.8485 - val_loss: 0.8036 - val_accuracy: 0.6689\n",
      "Epoch 16/1000\n",
      "147/147 [==============================] - 2s 15ms/step - loss: 0.2898 - accuracy: 0.8740 - val_loss: 0.8786 - val_accuracy: 0.6784\n",
      "Epoch 17/1000\n",
      "147/147 [==============================] - 2s 15ms/step - loss: 0.2414 - accuracy: 0.8887 - val_loss: 0.9612 - val_accuracy: 0.6681\n",
      "Epoch 18/1000\n",
      "147/147 [==============================] - 2s 15ms/step - loss: 0.2158 - accuracy: 0.8962 - val_loss: 1.1205 - val_accuracy: 0.6715\n"
     ]
    }
   ],
   "source": [
    "from tensorflow.keras.layers import Embedding, Flatten, GRU\n",
    "counter = 50000\n",
    "model = Sequential()\n",
    "model.add(Embedding(counter, 10, input_length=50))\n",
    "model.add(GRU(16))\n",
    "model.add(Flatten())\n",
    "model.add(Dense(3, activation='softmax'))\n",
    "model.summary()\n",
    "model.compile(optimizer='adam',loss='sparse_categorical_crossentropy', metrics=['accuracy'])\n",
    "history = model.fit(X_train_pad,y_train, epochs=EPOCHS, validation_data=(X_test_pad,y_test), callbacks = [es])"
   ]
  },
  {
   "cell_type": "code",
   "execution_count": 11,
   "id": "d0b6392d",
   "metadata": {},
   "outputs": [
    {
     "data": {
      "text/plain": [
       "<matplotlib.legend.Legend at 0x195090746a0>"
      ]
     },
     "execution_count": 11,
     "metadata": {},
     "output_type": "execute_result"
    },
    {
     "data": {
      "image/png": "[encoded data removed]",
      "text/plain": [
       "<Figure size 1000x500 with 2 Axes>"
      ]
     },
     "metadata": {},
     "output_type": "display_data"
    }
   ],
   "source": [
    "hist = pd.DataFrame(history.history)\n",
    "plt.figure(figsize=(10,5))\n",
    "plt.subplot(1,2,1)\n",
    "plt.plot(hist.loss, label = \"loss\")\n",
    "plt.plot(hist.val_loss, label = \"val_loss\")\n",
    "plt.xlabel(\"epoch\")\n",
    "plt.ylabel(\"loss\")\n",
    "plt.legend()\n",
    "\n",
    "plt.subplot(1,2,2)\n",
    "plt.plot(hist.accuracy, label = \"acc\")\n",
    "plt.plot(hist.val_accuracy, label = \"val_acc\")\n",
    "plt.xlabel(\"epoch\")\n",
    "plt.ylabel(\"accuracy\") \n",
    "plt.legend()"
   ]
  },
  {
   "cell_type": "code",
   "execution_count": 12,
   "id": "10b0892a",
   "metadata": {},
   "outputs": [],
   "source": [
    "#Model 1 (najprostrzy)"
   ]
  },
  {
   "cell_type": "code",
   "execution_count": 14,
   "id": "413be5d8",
   "metadata": {},
   "outputs": [
    {
     "name": "stdout",
     "output_type": "stream",
     "text": [
      "Model: \"sequential_2\"\n",
      "_________________________________________________________________\n",
      " Layer (type)                Output Shape              Param #   \n",
      "=================================================================\n",
      " embedding_2 (Embedding)     (None, 50, 10)            500000    \n",
      "                                                                 \n",
      " gru_2 (GRU)                 (None, 16)                1344      \n",
      "                                                                 \n",
      " flatten_2 (Flatten)         (None, 16)                0         \n",
      "                                                                 \n",
      " dense_2 (Dense)             (None, 3)                 51        \n",
      "                                                                 \n",
      "=================================================================\n",
      "Total params: 501395 (1.91 MB)\n",
      "Trainable params: 501395 (1.91 MB)\n",
      "Non-trainable params: 0 (0.00 Byte)\n",
      "_________________________________________________________________\n",
      "Epoch 1/1000\n",
      "147/147 [==============================] - 5s 18ms/step - loss: 0.1997 - accuracy: 0.9009 - val_loss: 1.1938 - val_accuracy: 0.6621\n",
      "Epoch 2/1000\n",
      "147/147 [==============================] - 2s 15ms/step - loss: 0.1871 - accuracy: 0.9026 - val_loss: 1.2096 - val_accuracy: 0.6638\n",
      "Epoch 3/1000\n",
      "147/147 [==============================] - 2s 15ms/step - loss: 0.1820 - accuracy: 0.9039 - val_loss: 1.2750 - val_accuracy: 0.6561\n",
      "Epoch 4/1000\n",
      "147/147 [==============================] - 2s 16ms/step - loss: 0.1744 - accuracy: 0.9052 - val_loss: 1.3292 - val_accuracy: 0.6561\n",
      "Epoch 5/1000\n",
      "147/147 [==============================] - 2s 16ms/step - loss: 0.1700 - accuracy: 0.9033 - val_loss: 1.3864 - val_accuracy: 0.6493\n",
      "Epoch 6/1000\n",
      "147/147 [==============================] - 2s 15ms/step - loss: 0.1651 - accuracy: 0.9048 - val_loss: 1.4208 - val_accuracy: 0.6544\n"
     ]
    }
   ],
   "source": [
    "model1 = Sequential()\n",
    "model1.add(Embedding(50000, 10, input_length=50))\n",
    "model1.add(GRU(16))\n",
    "model1.add(Dense(3, activation='softmax'))\n",
    "model1.compile(optimizer='adam', loss='sparse_categorical_crossentropy', metrics=['accuracy'])\n",
    "model.summary()\n",
    "model.compile(optimizer='adam',loss='sparse_categorical_crossentropy', metrics=['accuracy'])\n",
    "history = model.fit(X_train_pad,y_train, epochs=EPOCHS, validation_data=(X_test_pad,y_test), callbacks = [es])"
   ]
  },
  {
   "cell_type": "code",
   "execution_count": null,
   "id": "3fea39b8",
   "metadata": {},
   "outputs": [],
   "source": [
    "#Model 2 - Zwiększony Rozmiar Embeddingu"
   ]
  },
  {
   "cell_type": "code",
   "execution_count": 25,
   "id": "3d34d3bb",
   "metadata": {},
   "outputs": [
    {
     "name": "stdout",
     "output_type": "stream",
     "text": [
      "Epoch 1/1000\n",
      "147/147 [==============================] - 5s 19ms/step - loss: 0.1201 - accuracy: 0.9146 - val_loss: 2.6842 - val_accuracy: 0.6364\n",
      "Epoch 2/1000\n",
      "147/147 [==============================] - 2s 15ms/step - loss: 0.1195 - accuracy: 0.9178 - val_loss: 2.6449 - val_accuracy: 0.6305\n",
      "Epoch 3/1000\n",
      "147/147 [==============================] - 2s 15ms/step - loss: 0.1195 - accuracy: 0.9165 - val_loss: 2.5962 - val_accuracy: 0.6262\n",
      "Epoch 4/1000\n",
      "147/147 [==============================] - 2s 15ms/step - loss: 0.1273 - accuracy: 0.9163 - val_loss: 2.4678 - val_accuracy: 0.6382\n",
      "Epoch 5/1000\n",
      "147/147 [==============================] - 2s 15ms/step - loss: 0.1218 - accuracy: 0.9157 - val_loss: 2.6050 - val_accuracy: 0.6236\n",
      "Epoch 6/1000\n",
      "147/147 [==============================] - 2s 15ms/step - loss: 0.1180 - accuracy: 0.9168 - val_loss: 2.6495 - val_accuracy: 0.6185\n",
      "Epoch 7/1000\n",
      "147/147 [==============================] - 2s 15ms/step - loss: 0.1172 - accuracy: 0.9230 - val_loss: 2.6777 - val_accuracy: 0.6210\n",
      "Epoch 8/1000\n",
      "147/147 [==============================] - 2s 15ms/step - loss: 0.1175 - accuracy: 0.9204 - val_loss: 2.6549 - val_accuracy: 0.6339\n",
      "Epoch 9/1000\n",
      "147/147 [==============================] - 2s 15ms/step - loss: 0.1196 - accuracy: 0.9180 - val_loss: 2.6732 - val_accuracy: 0.6270\n"
     ]
    }
   ],
   "source": [
    "model2 = Sequential()\n",
    "model2.add(Embedding(50000, 50, input_length=50))  \n",
    "model2.add(GRU(16))\n",
    "model2.add(Dense(3, activation='softmax'))\n",
    "model2.compile(optimizer='adam', loss='sparse_categorical_crossentropy', metrics=['accuracy'])\n",
    "model.compile(optimizer='adam',loss='sparse_categorical_crossentropy', metrics=['accuracy'])\n",
    "history = model.fit(X_train_pad,y_train, epochs=EPOCHS, validation_data=(X_test_pad,y_test), callbacks = [es])"
   ]
  },
  {
   "cell_type": "code",
   "execution_count": null,
   "id": "37353116",
   "metadata": {},
   "outputs": [],
   "source": [
    "#Model 3 - Dodanie Warstw Dropout"
   ]
  },
  {
   "cell_type": "code",
   "execution_count": 16,
   "id": "1bb22c0f",
   "metadata": {},
   "outputs": [
    {
     "name": "stdout",
     "output_type": "stream",
     "text": [
      "Epoch 1/1000\n",
      "147/147 [==============================] - 5s 18ms/step - loss: 0.1389 - accuracy: 0.9120 - val_loss: 1.8484 - val_accuracy: 0.6536\n",
      "Epoch 2/1000\n",
      "147/147 [==============================] - 2s 15ms/step - loss: 0.1417 - accuracy: 0.9153 - val_loss: 1.8613 - val_accuracy: 0.6450\n",
      "Epoch 3/1000\n",
      "147/147 [==============================] - 2s 15ms/step - loss: 0.1357 - accuracy: 0.9125 - val_loss: 1.9532 - val_accuracy: 0.6459\n",
      "Epoch 4/1000\n",
      "147/147 [==============================] - 2s 15ms/step - loss: 0.1358 - accuracy: 0.9108 - val_loss: 1.9266 - val_accuracy: 0.6518\n",
      "Epoch 5/1000\n",
      "147/147 [==============================] - 2s 15ms/step - loss: 0.1313 - accuracy: 0.9138 - val_loss: 2.0253 - val_accuracy: 0.6433\n",
      "Epoch 6/1000\n",
      "147/147 [==============================] - 2s 16ms/step - loss: 0.1313 - accuracy: 0.9155 - val_loss: 2.0392 - val_accuracy: 0.6416\n"
     ]
    }
   ],
   "source": [
    "model3 = Sequential()\n",
    "model3.add(Embedding(50000, 10, input_length=50))\n",
    "model3.add(GRU(16))\n",
    "model3.add(Dropout(0.5))  \n",
    "model3.add(Dense(3, activation='softmax'))\n",
    "model3.compile(optimizer='adam', loss='sparse_categorical_crossentropy', metrics=['accuracy'])\n",
    "model.compile(optimizer='adam',loss='sparse_categorical_crossentropy', metrics=['accuracy'])\n",
    "history = model.fit(X_train_pad,y_train, epochs=EPOCHS, validation_data=(X_test_pad,y_test), callbacks = [es])"
   ]
  },
  {
   "cell_type": "code",
   "execution_count": null,
   "id": "2ddc8f43",
   "metadata": {},
   "outputs": [],
   "source": [
    "#Model 4 - Zastosowanie LSTM zamiast GRU"
   ]
  },
  {
   "cell_type": "code",
   "execution_count": 19,
   "id": "c5f60818",
   "metadata": {},
   "outputs": [
    {
     "name": "stdout",
     "output_type": "stream",
     "text": [
      "Epoch 1/1000\n",
      "147/147 [==============================] - 5s 18ms/step - loss: 0.1317 - accuracy: 0.9103 - val_loss: 2.1013 - val_accuracy: 0.6459\n",
      "Epoch 2/1000\n",
      "147/147 [==============================] - 2s 16ms/step - loss: 0.1318 - accuracy: 0.9127 - val_loss: 2.0732 - val_accuracy: 0.6467\n",
      "Epoch 3/1000\n",
      "147/147 [==============================] - 2s 16ms/step - loss: 0.1309 - accuracy: 0.9116 - val_loss: 2.0781 - val_accuracy: 0.6424\n",
      "Epoch 4/1000\n",
      "147/147 [==============================] - 2s 15ms/step - loss: 0.1347 - accuracy: 0.9091 - val_loss: 2.0927 - val_accuracy: 0.6450\n",
      "Epoch 5/1000\n",
      "147/147 [==============================] - 2s 16ms/step - loss: 0.1337 - accuracy: 0.9110 - val_loss: 2.1610 - val_accuracy: 0.6416\n",
      "Epoch 6/1000\n",
      "147/147 [==============================] - 2s 16ms/step - loss: 0.1288 - accuracy: 0.9131 - val_loss: 2.1329 - val_accuracy: 0.6501\n",
      "Epoch 7/1000\n",
      "147/147 [==============================] - 2s 16ms/step - loss: 0.1271 - accuracy: 0.9150 - val_loss: 2.1848 - val_accuracy: 0.6493\n"
     ]
    }
   ],
   "source": [
    "from tensorflow.keras.layers import LSTM\n",
    "model4 = Sequential()\n",
    "model4.add(Embedding(50000, 10, input_length=50))\n",
    "model4.add(LSTM(16))  \n",
    "model4.add(Dense(3, activation='softmax'))\n",
    "model4.compile(optimizer='adam', loss='sparse_categorical_crossentropy', metrics=['accuracy'])\n",
    "model.compile(optimizer='adam',loss='sparse_categorical_crossentropy', metrics=['accuracy'])\n",
    "history = model.fit(X_train_pad,y_train, epochs=EPOCHS, validation_data=(X_test_pad,y_test), callbacks = [es])"
   ]
  },
  {
   "cell_type": "code",
   "execution_count": null,
   "id": "23f6b914",
   "metadata": {},
   "outputs": [],
   "source": [
    "#Model 5 - Zwiększenie Głębokości Modelu"
   ]
  },
  {
   "cell_type": "code",
   "execution_count": 20,
   "id": "a8700c3e",
   "metadata": {},
   "outputs": [
    {
     "name": "stdout",
     "output_type": "stream",
     "text": [
      "Epoch 1/1000\n",
      "147/147 [==============================] - 5s 18ms/step - loss: 0.1320 - accuracy: 0.9112 - val_loss: 2.1712 - val_accuracy: 0.6459\n",
      "Epoch 2/1000\n",
      "147/147 [==============================] - 2s 15ms/step - loss: 0.1313 - accuracy: 0.9129 - val_loss: 2.2545 - val_accuracy: 0.6296\n",
      "Epoch 3/1000\n",
      "147/147 [==============================] - 2s 15ms/step - loss: 0.1281 - accuracy: 0.9161 - val_loss: 2.2011 - val_accuracy: 0.6416\n",
      "Epoch 4/1000\n",
      "147/147 [==============================] - 2s 15ms/step - loss: 0.1265 - accuracy: 0.9144 - val_loss: 2.3543 - val_accuracy: 0.6296\n",
      "Epoch 5/1000\n",
      "147/147 [==============================] - 2s 15ms/step - loss: 0.1297 - accuracy: 0.9105 - val_loss: 2.2529 - val_accuracy: 0.6424\n",
      "Epoch 6/1000\n",
      "147/147 [==============================] - 2s 16ms/step - loss: 0.1281 - accuracy: 0.9163 - val_loss: 2.2377 - val_accuracy: 0.6390\n"
     ]
    }
   ],
   "source": [
    "model5 = Sequential()\n",
    "model5.add(Embedding(50000, 10, input_length=50))\n",
    "model5.add(GRU(16, return_sequences=True))  \n",
    "model5.add(GRU(8))  \n",
    "model5.add(Dense(3, activation='softmax'))\n",
    "model5.compile(optimizer='adam', loss='sparse_categorical_crossentropy', metrics=['accuracy'])\n",
    "model.compile(optimizer='adam',loss='sparse_categorical_crossentropy', metrics=['accuracy'])\n",
    "history = model.fit(X_train_pad,y_train, epochs=EPOCHS, validation_data=(X_test_pad,y_test), callbacks = [es])"
   ]
  },
  {
   "cell_type": "code",
   "execution_count": null,
   "id": "d2e88f1d",
   "metadata": {},
   "outputs": [],
   "source": [
    "#Model 6 - Zastosowanie Konwolucyjnej Sieci Neuronowej"
   ]
  },
  {
   "cell_type": "code",
   "execution_count": 23,
   "id": "1891c5d2",
   "metadata": {},
   "outputs": [
    {
     "name": "stdout",
     "output_type": "stream",
     "text": [
      "Epoch 1/1000\n",
      "147/147 [==============================] - 4s 18ms/step - loss: 0.1273 - accuracy: 0.9225 - val_loss: 2.4316 - val_accuracy: 0.6210\n",
      "Epoch 2/1000\n",
      "147/147 [==============================] - 2s 15ms/step - loss: 0.1284 - accuracy: 0.9061 - val_loss: 2.3150 - val_accuracy: 0.6347\n",
      "Epoch 3/1000\n",
      "147/147 [==============================] - 2s 15ms/step - loss: 0.1256 - accuracy: 0.9150 - val_loss: 2.3821 - val_accuracy: 0.6270\n",
      "Epoch 4/1000\n",
      "147/147 [==============================] - 2s 15ms/step - loss: 0.1268 - accuracy: 0.9165 - val_loss: 2.2805 - val_accuracy: 0.6382\n",
      "Epoch 5/1000\n",
      "147/147 [==============================] - 2s 15ms/step - loss: 0.1247 - accuracy: 0.9161 - val_loss: 2.3205 - val_accuracy: 0.6424\n",
      "Epoch 6/1000\n",
      "147/147 [==============================] - 2s 15ms/step - loss: 0.1228 - accuracy: 0.9198 - val_loss: 2.4248 - val_accuracy: 0.6210\n",
      "Epoch 7/1000\n",
      "147/147 [==============================] - 2s 15ms/step - loss: 0.1235 - accuracy: 0.9135 - val_loss: 2.4712 - val_accuracy: 0.6373\n",
      "Epoch 8/1000\n",
      "147/147 [==============================] - 2s 15ms/step - loss: 0.1222 - accuracy: 0.9148 - val_loss: 2.4510 - val_accuracy: 0.6424\n",
      "Epoch 9/1000\n",
      "147/147 [==============================] - 2s 15ms/step - loss: 0.1214 - accuracy: 0.9142 - val_loss: 2.4948 - val_accuracy: 0.6356\n"
     ]
    }
   ],
   "source": [
    "from tensorflow.keras.layers import GlobalMaxPooling1D\n",
    "from tensorflow.keras.layers import Conv1D\n",
    "model6 = Sequential()\n",
    "model6.add(Embedding(50000, 10, input_length=50))\n",
    "model6.add(Conv1D(64, 5, activation='relu')) \n",
    "model6.add(GlobalMaxPooling1D())\n",
    "model6.add(Dense(3, activation='softmax'))\n",
    "model6.compile(optimizer='adam', loss='sparse_categorical_crossentropy', metrics=['accuracy'])\n",
    "model.compile(optimizer='adam',loss='sparse_categorical_crossentropy', metrics=['accuracy'])\n",
    "history = model.fit(X_train_pad,y_train, epochs=EPOCHS, validation_data=(X_test_pad,y_test), callbacks = [es])"
   ]
  },
  {
   "cell_type": "code",
   "execution_count": 37,
   "id": "4257b45f",
   "metadata": {},
   "outputs": [],
   "source": [
    "models = ['Model 1', 'Model 2', 'Model 3', 'Model 4', 'Model 5', 'Model 6']\n",
    "accuracy = [0.9048, 0.9180, 0.9155, 0.9150, 0.9163, 0.9142]\n",
    "val_accuracy = [0.6544, 0.6270, 0.6416, 0.6493, 0.6390, 0.6356]"
   ]
  },
  {
   "cell_type": "code",
   "execution_count": 44,
   "id": "6a7ffecf",
   "metadata": {},
   "outputs": [
    {
     "data": {
      "image/png": "[encoded data removed]",
      "text/plain": [
       "<Figure size 1000x600 with 1 Axes>"
      ]
     },
     "metadata": {},
     "output_type": "display_data"
    }
   ],
   "source": [
    "plt.figure(figsize=(10, 6))\n",
    "plt.bar(models, accuracy, color=['blue', 'green', 'red', 'purple', 'orange', 'cyan'])\n",
    "plt.ylabel('Accuracy')\n",
    "plt.xticks(rotation=45)\n",
    "plt.ylim(0.85, 0.95) \n",
    "\n",
    "for i, value in enumerate(accuracy):\n",
    "    plt.text(i, value + 0.001, f\"{value:.4f}\", ha='center', va='bottom')\n",
    "\n",
    "plt.tight_layout()\n",
    "plt.show()"
   ]
  },
  {
   "cell_type": "code",
   "execution_count": 46,
   "id": "0c1b1497",
   "metadata": {},
   "outputs": [
    {
     "data": {
      "image/png": "[encoded data removed]",
      "text/plain": [
       "<Figure size 1000x600 with 1 Axes>"
      ]
     },
     "metadata": {},
     "output_type": "display_data"
    }
   ],
   "source": [
    "plt.figure(figsize=(10, 6))\n",
    "\n",
    "plt.bar(models, val_accuracy, color=['blue', 'green', 'red', 'purple', 'orange', 'cyan'])\n",
    "plt.ylabel('Val_accuracy')\n",
    "plt.xticks(rotation=45)\n",
    "plt.ylim(0.55, 0.7)\n",
    "\n",
    "for i, value in enumerate(val_accuracy):\n",
    "    plt.text(i, value + 0.001, f\"{value:.4f}\", ha='center', va='bottom')\n",
    "\n",
    "plt.tight_layout()\n",
    "plt.show()"
   ]
  },
  {
   "cell_type": "code",
   "execution_count": null,
   "id": "111a973c",
   "metadata": {},
   "outputs": [],
   "source": []
  }
 ],
 "metadata": {
  "kernelspec": {
   "display_name": "Python 3 (ipykernel)",
   "language": "python",
   "name": "python3"
  },
  "language_info": {
   "codemirror_mode": {
    "name": "ipython",
    "version": 3
   },
   "file_extension": ".py",
   "mimetype": "text/x-python",
   "name": "python",
   "nbconvert_exporter": "python",
   "pygments_lexer": "ipython3",
   "version": "3.9.13"
  }
 },
 "nbformat": 4,
 "nbformat_minor": 5
}
